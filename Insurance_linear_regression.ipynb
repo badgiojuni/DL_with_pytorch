{
  "nbformat": 4,
  "nbformat_minor": 0,
  "metadata": {
    "colab": {
      "name": "Insurance_linear_regression.ipynb",
      "provenance": [],
      "collapsed_sections": [],
      "authorship_tag": "ABX9TyPW+Nik27uoVeLOegzlq9R8",
      "include_colab_link": true
    },
    "kernelspec": {
      "name": "python3",
      "display_name": "Python 3"
    },
    "language_info": {
      "name": "python"
    },
    "widgets": {
      "application/vnd.jupyter.widget-state+json": {
        "0c5f932bb2c2422d8a7143e521e40aee": {
          "model_module": "@jupyter-widgets/controls",
          "model_name": "HBoxModel",
          "model_module_version": "1.5.0",
          "state": {
            "_dom_classes": [],
            "_model_module": "@jupyter-widgets/controls",
            "_model_module_version": "1.5.0",
            "_model_name": "HBoxModel",
            "_view_count": null,
            "_view_module": "@jupyter-widgets/controls",
            "_view_module_version": "1.5.0",
            "_view_name": "HBoxView",
            "box_style": "",
            "children": [
              "IPY_MODEL_406f5ba1fc8b4bf3870b9303ad908d38",
              "IPY_MODEL_e83258ea17f446659e409158f4bb42cb",
              "IPY_MODEL_355712f2099a400ba6cdbfca2542328e"
            ],
            "layout": "IPY_MODEL_3514e335df1b43d0896d2db81bfe8e6b"
          }
        },
        "406f5ba1fc8b4bf3870b9303ad908d38": {
          "model_module": "@jupyter-widgets/controls",
          "model_name": "HTMLModel",
          "model_module_version": "1.5.0",
          "state": {
            "_dom_classes": [],
            "_model_module": "@jupyter-widgets/controls",
            "_model_module_version": "1.5.0",
            "_model_name": "HTMLModel",
            "_view_count": null,
            "_view_module": "@jupyter-widgets/controls",
            "_view_module_version": "1.5.0",
            "_view_name": "HTMLView",
            "description": "",
            "description_tooltip": null,
            "layout": "IPY_MODEL_780cf3eee8264b249d235ce35ddf5057",
            "placeholder": "​",
            "style": "IPY_MODEL_2cc8f6813dac4dca9d860cde4c855fb0",
            "value": ""
          }
        },
        "e83258ea17f446659e409158f4bb42cb": {
          "model_module": "@jupyter-widgets/controls",
          "model_name": "FloatProgressModel",
          "model_module_version": "1.5.0",
          "state": {
            "_dom_classes": [],
            "_model_module": "@jupyter-widgets/controls",
            "_model_module_version": "1.5.0",
            "_model_name": "FloatProgressModel",
            "_view_count": null,
            "_view_module": "@jupyter-widgets/controls",
            "_view_module_version": "1.5.0",
            "_view_name": "ProgressView",
            "bar_style": "success",
            "description": "",
            "description_tooltip": null,
            "layout": "IPY_MODEL_da8e02ea715543c9ba60450e7fc840ac",
            "max": 54288,
            "min": 0,
            "orientation": "horizontal",
            "style": "IPY_MODEL_53bf5bcba6214b6682cda1c82b523443",
            "value": 54288
          }
        },
        "355712f2099a400ba6cdbfca2542328e": {
          "model_module": "@jupyter-widgets/controls",
          "model_name": "HTMLModel",
          "model_module_version": "1.5.0",
          "state": {
            "_dom_classes": [],
            "_model_module": "@jupyter-widgets/controls",
            "_model_module_version": "1.5.0",
            "_model_name": "HTMLModel",
            "_view_count": null,
            "_view_module": "@jupyter-widgets/controls",
            "_view_module_version": "1.5.0",
            "_view_name": "HTMLView",
            "description": "",
            "description_tooltip": null,
            "layout": "IPY_MODEL_d20bbc95e172421ab6090e3676914b71",
            "placeholder": "​",
            "style": "IPY_MODEL_7d247b8aa97447d6bc81eb5adf7457d2",
            "value": " 55296/? [00:00&lt;00:00, 1211480.42it/s]"
          }
        },
        "3514e335df1b43d0896d2db81bfe8e6b": {
          "model_module": "@jupyter-widgets/base",
          "model_name": "LayoutModel",
          "model_module_version": "1.2.0",
          "state": {
            "_model_module": "@jupyter-widgets/base",
            "_model_module_version": "1.2.0",
            "_model_name": "LayoutModel",
            "_view_count": null,
            "_view_module": "@jupyter-widgets/base",
            "_view_module_version": "1.2.0",
            "_view_name": "LayoutView",
            "align_content": null,
            "align_items": null,
            "align_self": null,
            "border": null,
            "bottom": null,
            "display": null,
            "flex": null,
            "flex_flow": null,
            "grid_area": null,
            "grid_auto_columns": null,
            "grid_auto_flow": null,
            "grid_auto_rows": null,
            "grid_column": null,
            "grid_gap": null,
            "grid_row": null,
            "grid_template_areas": null,
            "grid_template_columns": null,
            "grid_template_rows": null,
            "height": null,
            "justify_content": null,
            "justify_items": null,
            "left": null,
            "margin": null,
            "max_height": null,
            "max_width": null,
            "min_height": null,
            "min_width": null,
            "object_fit": null,
            "object_position": null,
            "order": null,
            "overflow": null,
            "overflow_x": null,
            "overflow_y": null,
            "padding": null,
            "right": null,
            "top": null,
            "visibility": null,
            "width": null
          }
        },
        "780cf3eee8264b249d235ce35ddf5057": {
          "model_module": "@jupyter-widgets/base",
          "model_name": "LayoutModel",
          "model_module_version": "1.2.0",
          "state": {
            "_model_module": "@jupyter-widgets/base",
            "_model_module_version": "1.2.0",
            "_model_name": "LayoutModel",
            "_view_count": null,
            "_view_module": "@jupyter-widgets/base",
            "_view_module_version": "1.2.0",
            "_view_name": "LayoutView",
            "align_content": null,
            "align_items": null,
            "align_self": null,
            "border": null,
            "bottom": null,
            "display": null,
            "flex": null,
            "flex_flow": null,
            "grid_area": null,
            "grid_auto_columns": null,
            "grid_auto_flow": null,
            "grid_auto_rows": null,
            "grid_column": null,
            "grid_gap": null,
            "grid_row": null,
            "grid_template_areas": null,
            "grid_template_columns": null,
            "grid_template_rows": null,
            "height": null,
            "justify_content": null,
            "justify_items": null,
            "left": null,
            "margin": null,
            "max_height": null,
            "max_width": null,
            "min_height": null,
            "min_width": null,
            "object_fit": null,
            "object_position": null,
            "order": null,
            "overflow": null,
            "overflow_x": null,
            "overflow_y": null,
            "padding": null,
            "right": null,
            "top": null,
            "visibility": null,
            "width": null
          }
        },
        "2cc8f6813dac4dca9d860cde4c855fb0": {
          "model_module": "@jupyter-widgets/controls",
          "model_name": "DescriptionStyleModel",
          "model_module_version": "1.5.0",
          "state": {
            "_model_module": "@jupyter-widgets/controls",
            "_model_module_version": "1.5.0",
            "_model_name": "DescriptionStyleModel",
            "_view_count": null,
            "_view_module": "@jupyter-widgets/base",
            "_view_module_version": "1.2.0",
            "_view_name": "StyleView",
            "description_width": ""
          }
        },
        "da8e02ea715543c9ba60450e7fc840ac": {
          "model_module": "@jupyter-widgets/base",
          "model_name": "LayoutModel",
          "model_module_version": "1.2.0",
          "state": {
            "_model_module": "@jupyter-widgets/base",
            "_model_module_version": "1.2.0",
            "_model_name": "LayoutModel",
            "_view_count": null,
            "_view_module": "@jupyter-widgets/base",
            "_view_module_version": "1.2.0",
            "_view_name": "LayoutView",
            "align_content": null,
            "align_items": null,
            "align_self": null,
            "border": null,
            "bottom": null,
            "display": null,
            "flex": null,
            "flex_flow": null,
            "grid_area": null,
            "grid_auto_columns": null,
            "grid_auto_flow": null,
            "grid_auto_rows": null,
            "grid_column": null,
            "grid_gap": null,
            "grid_row": null,
            "grid_template_areas": null,
            "grid_template_columns": null,
            "grid_template_rows": null,
            "height": null,
            "justify_content": null,
            "justify_items": null,
            "left": null,
            "margin": null,
            "max_height": null,
            "max_width": null,
            "min_height": null,
            "min_width": null,
            "object_fit": null,
            "object_position": null,
            "order": null,
            "overflow": null,
            "overflow_x": null,
            "overflow_y": null,
            "padding": null,
            "right": null,
            "top": null,
            "visibility": null,
            "width": null
          }
        },
        "53bf5bcba6214b6682cda1c82b523443": {
          "model_module": "@jupyter-widgets/controls",
          "model_name": "ProgressStyleModel",
          "model_module_version": "1.5.0",
          "state": {
            "_model_module": "@jupyter-widgets/controls",
            "_model_module_version": "1.5.0",
            "_model_name": "ProgressStyleModel",
            "_view_count": null,
            "_view_module": "@jupyter-widgets/base",
            "_view_module_version": "1.2.0",
            "_view_name": "StyleView",
            "bar_color": null,
            "description_width": ""
          }
        },
        "d20bbc95e172421ab6090e3676914b71": {
          "model_module": "@jupyter-widgets/base",
          "model_name": "LayoutModel",
          "model_module_version": "1.2.0",
          "state": {
            "_model_module": "@jupyter-widgets/base",
            "_model_module_version": "1.2.0",
            "_model_name": "LayoutModel",
            "_view_count": null,
            "_view_module": "@jupyter-widgets/base",
            "_view_module_version": "1.2.0",
            "_view_name": "LayoutView",
            "align_content": null,
            "align_items": null,
            "align_self": null,
            "border": null,
            "bottom": null,
            "display": null,
            "flex": null,
            "flex_flow": null,
            "grid_area": null,
            "grid_auto_columns": null,
            "grid_auto_flow": null,
            "grid_auto_rows": null,
            "grid_column": null,
            "grid_gap": null,
            "grid_row": null,
            "grid_template_areas": null,
            "grid_template_columns": null,
            "grid_template_rows": null,
            "height": null,
            "justify_content": null,
            "justify_items": null,
            "left": null,
            "margin": null,
            "max_height": null,
            "max_width": null,
            "min_height": null,
            "min_width": null,
            "object_fit": null,
            "object_position": null,
            "order": null,
            "overflow": null,
            "overflow_x": null,
            "overflow_y": null,
            "padding": null,
            "right": null,
            "top": null,
            "visibility": null,
            "width": null
          }
        },
        "7d247b8aa97447d6bc81eb5adf7457d2": {
          "model_module": "@jupyter-widgets/controls",
          "model_name": "DescriptionStyleModel",
          "model_module_version": "1.5.0",
          "state": {
            "_model_module": "@jupyter-widgets/controls",
            "_model_module_version": "1.5.0",
            "_model_name": "DescriptionStyleModel",
            "_view_count": null,
            "_view_module": "@jupyter-widgets/base",
            "_view_module_version": "1.2.0",
            "_view_name": "StyleView",
            "description_width": ""
          }
        }
      }
    }
  },
  "cells": [
    {
      "cell_type": "markdown",
      "metadata": {
        "id": "view-in-github",
        "colab_type": "text"
      },
      "source": [
        "<a href=\"https://colab.research.google.com/github/badgiojuni/DL_with_pytorch/blob/main/Insurance_linear_regression.ipynb\" target=\"_parent\"><img src=\"https://colab.research.google.com/assets/colab-badge.svg\" alt=\"Open In Colab\"/></a>"
      ]
    },
    {
      "cell_type": "code",
      "execution_count": 1,
      "metadata": {
        "id": "CrEtSFRMYLEZ"
      },
      "outputs": [],
      "source": [
        "import torch\n",
        "import torchvision\n",
        "import torch.nn as nn\n",
        "import pandas as pd\n",
        "import matplotlib.pyplot as plt\n",
        "import torch.nn.functional as F\n",
        "from torchvision.datasets.utils import download_url\n",
        "from torch.utils.data import DataLoader, TensorDataset, random_split"
      ]
    },
    {
      "cell_type": "code",
      "source": [
        "DATASET_URL = \"https://gist.github.com/BirajCoder/5f068dfe759c1ea6bdfce9535acdb72d/raw/c84d84e3c80f93be67f6c069cbdc0195ec36acbd/insurance.csv\"\n",
        "DATA_FILENAME = \"insurance.csv\"\n",
        "download_url(DATASET_URL, '.')"
      ],
      "metadata": {
        "colab": {
          "base_uri": "https://localhost:8080/",
          "height": 87,
          "referenced_widgets": [
            "0c5f932bb2c2422d8a7143e521e40aee",
            "406f5ba1fc8b4bf3870b9303ad908d38",
            "e83258ea17f446659e409158f4bb42cb",
            "355712f2099a400ba6cdbfca2542328e",
            "3514e335df1b43d0896d2db81bfe8e6b",
            "780cf3eee8264b249d235ce35ddf5057",
            "2cc8f6813dac4dca9d860cde4c855fb0",
            "da8e02ea715543c9ba60450e7fc840ac",
            "53bf5bcba6214b6682cda1c82b523443",
            "d20bbc95e172421ab6090e3676914b71",
            "7d247b8aa97447d6bc81eb5adf7457d2"
          ]
        },
        "id": "ASrPcqAEYoyJ",
        "outputId": "967f1c28-f5e6-4cec-fd44-115ca7199cf0"
      },
      "execution_count": 2,
      "outputs": [
        {
          "output_type": "stream",
          "name": "stdout",
          "text": [
            "Downloading https://gist.githubusercontent.com/BirajCoder/5f068dfe759c1ea6bdfce9535acdb72d/raw/c84d84e3c80f93be67f6c069cbdc0195ec36acbd/insurance.csv to ./insurance.csv\n"
          ]
        },
        {
          "output_type": "display_data",
          "data": {
            "text/plain": [
              "  0%|          | 0/54288 [00:00<?, ?it/s]"
            ],
            "application/vnd.jupyter.widget-view+json": {
              "version_major": 2,
              "version_minor": 0,
              "model_id": "0c5f932bb2c2422d8a7143e521e40aee"
            }
          },
          "metadata": {}
        }
      ]
    },
    {
      "cell_type": "code",
      "source": [
        "dataframe_raw = pd.read_csv(DATA_FILENAME)"
      ],
      "metadata": {
        "id": "Iqw32O3eYt5c"
      },
      "execution_count": 3,
      "outputs": []
    },
    {
      "cell_type": "code",
      "source": [
        "dataframe_raw.head()"
      ],
      "metadata": {
        "colab": {
          "base_uri": "https://localhost:8080/",
          "height": 206
        },
        "id": "wjKFfYDRZB0I",
        "outputId": "f7840733-03e4-4949-aa6f-31ec879726fc"
      },
      "execution_count": 4,
      "outputs": [
        {
          "output_type": "execute_result",
          "data": {
            "text/plain": [
              "   age     sex     bmi  children smoker     region      charges\n",
              "0   19  female  27.900         0    yes  southwest  16884.92400\n",
              "1   18    male  33.770         1     no  southeast   1725.55230\n",
              "2   28    male  33.000         3     no  southeast   4449.46200\n",
              "3   33    male  22.705         0     no  northwest  21984.47061\n",
              "4   32    male  28.880         0     no  northwest   3866.85520"
            ],
            "text/html": [
              "\n",
              "  <div id=\"df-c9047ceb-d945-4ed6-a5de-d8c92b3bc086\">\n",
              "    <div class=\"colab-df-container\">\n",
              "      <div>\n",
              "<style scoped>\n",
              "    .dataframe tbody tr th:only-of-type {\n",
              "        vertical-align: middle;\n",
              "    }\n",
              "\n",
              "    .dataframe tbody tr th {\n",
              "        vertical-align: top;\n",
              "    }\n",
              "\n",
              "    .dataframe thead th {\n",
              "        text-align: right;\n",
              "    }\n",
              "</style>\n",
              "<table border=\"1\" class=\"dataframe\">\n",
              "  <thead>\n",
              "    <tr style=\"text-align: right;\">\n",
              "      <th></th>\n",
              "      <th>age</th>\n",
              "      <th>sex</th>\n",
              "      <th>bmi</th>\n",
              "      <th>children</th>\n",
              "      <th>smoker</th>\n",
              "      <th>region</th>\n",
              "      <th>charges</th>\n",
              "    </tr>\n",
              "  </thead>\n",
              "  <tbody>\n",
              "    <tr>\n",
              "      <th>0</th>\n",
              "      <td>19</td>\n",
              "      <td>female</td>\n",
              "      <td>27.900</td>\n",
              "      <td>0</td>\n",
              "      <td>yes</td>\n",
              "      <td>southwest</td>\n",
              "      <td>16884.92400</td>\n",
              "    </tr>\n",
              "    <tr>\n",
              "      <th>1</th>\n",
              "      <td>18</td>\n",
              "      <td>male</td>\n",
              "      <td>33.770</td>\n",
              "      <td>1</td>\n",
              "      <td>no</td>\n",
              "      <td>southeast</td>\n",
              "      <td>1725.55230</td>\n",
              "    </tr>\n",
              "    <tr>\n",
              "      <th>2</th>\n",
              "      <td>28</td>\n",
              "      <td>male</td>\n",
              "      <td>33.000</td>\n",
              "      <td>3</td>\n",
              "      <td>no</td>\n",
              "      <td>southeast</td>\n",
              "      <td>4449.46200</td>\n",
              "    </tr>\n",
              "    <tr>\n",
              "      <th>3</th>\n",
              "      <td>33</td>\n",
              "      <td>male</td>\n",
              "      <td>22.705</td>\n",
              "      <td>0</td>\n",
              "      <td>no</td>\n",
              "      <td>northwest</td>\n",
              "      <td>21984.47061</td>\n",
              "    </tr>\n",
              "    <tr>\n",
              "      <th>4</th>\n",
              "      <td>32</td>\n",
              "      <td>male</td>\n",
              "      <td>28.880</td>\n",
              "      <td>0</td>\n",
              "      <td>no</td>\n",
              "      <td>northwest</td>\n",
              "      <td>3866.85520</td>\n",
              "    </tr>\n",
              "  </tbody>\n",
              "</table>\n",
              "</div>\n",
              "      <button class=\"colab-df-convert\" onclick=\"convertToInteractive('df-c9047ceb-d945-4ed6-a5de-d8c92b3bc086')\"\n",
              "              title=\"Convert this dataframe to an interactive table.\"\n",
              "              style=\"display:none;\">\n",
              "        \n",
              "  <svg xmlns=\"http://www.w3.org/2000/svg\" height=\"24px\"viewBox=\"0 0 24 24\"\n",
              "       width=\"24px\">\n",
              "    <path d=\"M0 0h24v24H0V0z\" fill=\"none\"/>\n",
              "    <path d=\"M18.56 5.44l.94 2.06.94-2.06 2.06-.94-2.06-.94-.94-2.06-.94 2.06-2.06.94zm-11 1L8.5 8.5l.94-2.06 2.06-.94-2.06-.94L8.5 2.5l-.94 2.06-2.06.94zm10 10l.94 2.06.94-2.06 2.06-.94-2.06-.94-.94-2.06-.94 2.06-2.06.94z\"/><path d=\"M17.41 7.96l-1.37-1.37c-.4-.4-.92-.59-1.43-.59-.52 0-1.04.2-1.43.59L10.3 9.45l-7.72 7.72c-.78.78-.78 2.05 0 2.83L4 21.41c.39.39.9.59 1.41.59.51 0 1.02-.2 1.41-.59l7.78-7.78 2.81-2.81c.8-.78.8-2.07 0-2.86zM5.41 20L4 18.59l7.72-7.72 1.47 1.35L5.41 20z\"/>\n",
              "  </svg>\n",
              "      </button>\n",
              "      \n",
              "  <style>\n",
              "    .colab-df-container {\n",
              "      display:flex;\n",
              "      flex-wrap:wrap;\n",
              "      gap: 12px;\n",
              "    }\n",
              "\n",
              "    .colab-df-convert {\n",
              "      background-color: #E8F0FE;\n",
              "      border: none;\n",
              "      border-radius: 50%;\n",
              "      cursor: pointer;\n",
              "      display: none;\n",
              "      fill: #1967D2;\n",
              "      height: 32px;\n",
              "      padding: 0 0 0 0;\n",
              "      width: 32px;\n",
              "    }\n",
              "\n",
              "    .colab-df-convert:hover {\n",
              "      background-color: #E2EBFA;\n",
              "      box-shadow: 0px 1px 2px rgba(60, 64, 67, 0.3), 0px 1px 3px 1px rgba(60, 64, 67, 0.15);\n",
              "      fill: #174EA6;\n",
              "    }\n",
              "\n",
              "    [theme=dark] .colab-df-convert {\n",
              "      background-color: #3B4455;\n",
              "      fill: #D2E3FC;\n",
              "    }\n",
              "\n",
              "    [theme=dark] .colab-df-convert:hover {\n",
              "      background-color: #434B5C;\n",
              "      box-shadow: 0px 1px 3px 1px rgba(0, 0, 0, 0.15);\n",
              "      filter: drop-shadow(0px 1px 2px rgba(0, 0, 0, 0.3));\n",
              "      fill: #FFFFFF;\n",
              "    }\n",
              "  </style>\n",
              "\n",
              "      <script>\n",
              "        const buttonEl =\n",
              "          document.querySelector('#df-c9047ceb-d945-4ed6-a5de-d8c92b3bc086 button.colab-df-convert');\n",
              "        buttonEl.style.display =\n",
              "          google.colab.kernel.accessAllowed ? 'block' : 'none';\n",
              "\n",
              "        async function convertToInteractive(key) {\n",
              "          const element = document.querySelector('#df-c9047ceb-d945-4ed6-a5de-d8c92b3bc086');\n",
              "          const dataTable =\n",
              "            await google.colab.kernel.invokeFunction('convertToInteractive',\n",
              "                                                     [key], {});\n",
              "          if (!dataTable) return;\n",
              "\n",
              "          const docLinkHtml = 'Like what you see? Visit the ' +\n",
              "            '<a target=\"_blank\" href=https://colab.research.google.com/notebooks/data_table.ipynb>data table notebook</a>'\n",
              "            + ' to learn more about interactive tables.';\n",
              "          element.innerHTML = '';\n",
              "          dataTable['output_type'] = 'display_data';\n",
              "          await google.colab.output.renderOutput(dataTable, element);\n",
              "          const docLink = document.createElement('div');\n",
              "          docLink.innerHTML = docLinkHtml;\n",
              "          element.appendChild(docLink);\n",
              "        }\n",
              "      </script>\n",
              "    </div>\n",
              "  </div>\n",
              "  "
            ]
          },
          "metadata": {},
          "execution_count": 4
        }
      ]
    },
    {
      "cell_type": "code",
      "source": [
        "print(dataframe_raw.shape)\n",
        "print(dataframe_raw.dtypes)"
      ],
      "metadata": {
        "colab": {
          "base_uri": "https://localhost:8080/"
        },
        "id": "5KDK-PBcZEEq",
        "outputId": "815ea7ff-7d66-4d68-86c7-454bb7cef8a1"
      },
      "execution_count": 5,
      "outputs": [
        {
          "output_type": "stream",
          "name": "stdout",
          "text": [
            "(1338, 7)\n",
            "age           int64\n",
            "sex          object\n",
            "bmi         float64\n",
            "children      int64\n",
            "smoker       object\n",
            "region       object\n",
            "charges     float64\n",
            "dtype: object\n"
          ]
        }
      ]
    },
    {
      "cell_type": "code",
      "source": [
        "import numpy as np\n",
        "import seaborn as sns\n",
        "sns.set_style(\"darkgrid\")\n",
        "np.log(dataframe_raw.charges).hist()"
      ],
      "metadata": {
        "colab": {
          "base_uri": "https://localhost:8080/",
          "height": 283
        },
        "id": "0PQ2GN1TZUW2",
        "outputId": "a7e8c054-72c8-4cf9-c03f-edf104656674"
      },
      "execution_count": 6,
      "outputs": [
        {
          "output_type": "execute_result",
          "data": {
            "text/plain": [
              "<matplotlib.axes._subplots.AxesSubplot at 0x7f5611a96290>"
            ]
          },
          "metadata": {},
          "execution_count": 6
        },
        {
          "output_type": "display_data",
          "data": {
            "text/plain": [
              "<Figure size 432x288 with 1 Axes>"
            ],
            "image/png": "[encoded data removed]"
          },
          "metadata": {}
        }
      ]
    },
    {
      "cell_type": "code",
      "source": [
        "sns.displot(dataframe_raw.charges, kde=False);"
      ],
      "metadata": {
        "colab": {
          "base_uri": "https://localhost:8080/",
          "height": 369
        },
        "id": "evf5rXwzaRuv",
        "outputId": "81105941-fa2b-48c5-b322-0610d35b315c"
      },
      "execution_count": 7,
      "outputs": [
        {
          "output_type": "display_data",
          "data": {
            "text/plain": [
              "<Figure size 360x360 with 1 Axes>"
            ],
            "image/png": "[encoded data removed]"
          },
          "metadata": {}
        }
      ]
    },
    {
      "cell_type": "code",
      "source": [
        "input_cols = list(dataframe_raw.columns)[:-1]\n",
        "categorical_cols = ['sex', 'smoker', 'region']\n",
        "target_col = ['charges']"
      ],
      "metadata": {
        "id": "eCAsPbnCbi9P"
      },
      "execution_count": 8,
      "outputs": []
    },
    {
      "cell_type": "code",
      "source": [
        "def df_to_array(df):\n",
        "  df1 = df.copy(deep=True)\n",
        "  for col in categorical_cols:\n",
        "    df1[col] = df1[col].astype('category').cat.codes\n",
        "  input_array, target_array = df1[input_cols].values, df1[target_col].values\n",
        "  return input_array, target_array"
      ],
      "metadata": {
        "id": "XvOQkRd3cg3i"
      },
      "execution_count": 9,
      "outputs": []
    },
    {
      "cell_type": "code",
      "source": [
        "X, y = df_to_array(dataframe_raw)"
      ],
      "metadata": {
        "id": "iVduU6bacsYE"
      },
      "execution_count": 10,
      "outputs": []
    },
    {
      "cell_type": "code",
      "source": [
        "inputs, target = torch.from_numpy(np.float32(X)), torch.from_numpy(np.float32(y))"
      ],
      "metadata": {
        "id": "4ki9BApRgb7w"
      },
      "execution_count": 11,
      "outputs": []
    },
    {
      "cell_type": "code",
      "source": [
        "inputs.dtype"
      ],
      "metadata": {
        "colab": {
          "base_uri": "https://localhost:8080/"
        },
        "id": "_jNtI3GBg-Tf",
        "outputId": "7bf0f563-3081-4686-d1b2-93e498827729"
      },
      "execution_count": 12,
      "outputs": [
        {
          "output_type": "execute_result",
          "data": {
            "text/plain": [
              "torch.float32"
            ]
          },
          "metadata": {},
          "execution_count": 12
        }
      ]
    },
    {
      "cell_type": "code",
      "source": [
        "full_dataset = TensorDataset(inputs, target)"
      ],
      "metadata": {
        "id": "HzZ-QCxqiAmg"
      },
      "execution_count": 13,
      "outputs": []
    },
    {
      "cell_type": "code",
      "source": [
        "random_prop = np.random.uniform(0.1,0.2)\n",
        "valid_ds_len = int(np.floor(random_prop * len(full_dataset)))"
      ],
      "metadata": {
        "id": "JohfgkFOj82-"
      },
      "execution_count": 14,
      "outputs": []
    },
    {
      "cell_type": "code",
      "source": [
        "from torch.utils.data import random_split\n",
        "random_prop = np.random.uniform(0.1,0.2)\n",
        "test_ds_len = int(np.floor(random_prop * len(full_dataset)))\n",
        "train_ds, valid_ds = random_split(full_dataset, [len(full_dataset)- valid_ds_len, valid_ds_len,])"
      ],
      "metadata": {
        "id": "tvyvVgkVi2_O"
      },
      "execution_count": 15,
      "outputs": []
    },
    {
      "cell_type": "code",
      "source": [
        "from torch.utils.data import DataLoader\n",
        "b_size = 32\n",
        "train_loader = DataLoader(train_ds, batch_size = b_size, shuffle=True)\n",
        "valid_loader = DataLoader(valid_ds, 2*b_size)"
      ],
      "metadata": {
        "id": "Oea3vx2Vkt6P"
      },
      "execution_count": 16,
      "outputs": []
    },
    {
      "cell_type": "code",
      "source": [
        "for xb, yb in train_loader:\n",
        "  print('inputs:', xb)\n",
        "  print('labels:', yb)\n",
        "  break"
      ],
      "metadata": {
        "colab": {
          "base_uri": "https://localhost:8080/"
        },
        "id": "_00kow64l9Ob",
        "outputId": "5a14e875-9352-458e-b930-5b3d8a0bf9ec"
      },
      "execution_count": 17,
      "outputs": [
        {
          "output_type": "stream",
          "name": "stdout",
          "text": [
            "inputs: tensor([[28.0000,  1.0000, 37.1000,  1.0000,  0.0000,  3.0000],\n",
            "        [43.0000,  0.0000, 24.7000,  2.0000,  1.0000,  1.0000],\n",
            "        [31.0000,  0.0000, 32.6800,  1.0000,  0.0000,  1.0000],\n",
            "        [32.0000,  1.0000, 46.5300,  2.0000,  0.0000,  2.0000],\n",
            "        [52.0000,  1.0000, 32.2050,  3.0000,  0.0000,  0.0000],\n",
            "        [39.0000,  0.0000, 34.1000,  3.0000,  0.0000,  3.0000],\n",
            "        [57.0000,  1.0000, 40.3700,  0.0000,  0.0000,  2.0000],\n",
            "        [23.0000,  0.0000, 28.3100,  0.0000,  1.0000,  1.0000],\n",
            "        [21.0000,  1.0000, 35.5300,  0.0000,  0.0000,  2.0000],\n",
            "        [42.0000,  1.0000, 24.8600,  0.0000,  0.0000,  2.0000],\n",
            "        [19.0000,  1.0000, 20.4250,  0.0000,  0.0000,  1.0000],\n",
            "        [28.0000,  1.0000, 33.0000,  3.0000,  0.0000,  2.0000],\n",
            "        [54.0000,  0.0000, 23.0000,  3.0000,  0.0000,  3.0000],\n",
            "        [55.0000,  1.0000, 27.6450,  0.0000,  0.0000,  1.0000],\n",
            "        [28.0000,  1.0000, 23.8000,  2.0000,  0.0000,  3.0000],\n",
            "        [37.0000,  0.0000, 34.8000,  2.0000,  1.0000,  3.0000],\n",
            "        [30.0000,  0.0000, 33.3300,  1.0000,  0.0000,  2.0000],\n",
            "        [45.0000,  1.0000, 21.3750,  0.0000,  0.0000,  1.0000],\n",
            "        [40.0000,  1.0000, 29.9000,  2.0000,  0.0000,  3.0000],\n",
            "        [38.0000,  0.0000, 40.5650,  1.0000,  0.0000,  1.0000],\n",
            "        [54.0000,  0.0000, 21.4700,  3.0000,  0.0000,  1.0000],\n",
            "        [45.0000,  0.0000, 35.8150,  0.0000,  0.0000,  1.0000],\n",
            "        [22.0000,  1.0000, 52.5800,  1.0000,  1.0000,  2.0000],\n",
            "        [62.0000,  0.0000, 31.7300,  0.0000,  0.0000,  0.0000],\n",
            "        [27.0000,  1.0000, 31.1300,  1.0000,  1.0000,  2.0000],\n",
            "        [60.0000,  1.0000, 29.6400,  0.0000,  0.0000,  0.0000],\n",
            "        [36.0000,  1.0000, 28.8800,  3.0000,  0.0000,  0.0000],\n",
            "        [47.0000,  1.0000, 28.2150,  3.0000,  1.0000,  1.0000],\n",
            "        [58.0000,  0.0000, 33.4400,  0.0000,  0.0000,  1.0000],\n",
            "        [61.0000,  0.0000, 28.2000,  0.0000,  0.0000,  3.0000],\n",
            "        [20.0000,  0.0000, 31.4600,  0.0000,  0.0000,  2.0000],\n",
            "        [48.0000,  1.0000, 28.0000,  1.0000,  1.0000,  3.0000]])\n",
            "labels: tensor([[ 3277.1609],\n",
            "        [21880.8203],\n",
            "        [ 4738.2681],\n",
            "        [ 4686.3887],\n",
            "        [11488.3174],\n",
            "        [ 7418.5220],\n",
            "        [10982.5010],\n",
            "        [18033.9688],\n",
            "        [ 1532.4697],\n",
            "        [ 5966.8872],\n",
            "        [ 1625.4337],\n",
            "        [ 4449.4619],\n",
            "        [12094.4775],\n",
            "        [10594.5020],\n",
            "        [ 3847.6741],\n",
            "        [39836.5195],\n",
            "        [ 4151.0288],\n",
            "        [ 7222.7861],\n",
            "        [ 6600.3608],\n",
            "        [ 6373.5571],\n",
            "        [12475.3516],\n",
            "        [ 7731.8579],\n",
            "        [44501.3984],\n",
            "        [14043.4766],\n",
            "        [34806.4688],\n",
            "        [12731.0000],\n",
            "        [ 6748.5913],\n",
            "        [24915.2207],\n",
            "        [12231.6133],\n",
            "        [13041.9209],\n",
            "        [ 1877.9294],\n",
            "        [23568.2715]])\n"
          ]
        }
      ]
    },
    {
      "cell_type": "code",
      "source": [
        "input_size = inputs.shape[1]\n",
        "output_size = target.shape[1]"
      ],
      "metadata": {
        "id": "ea4c3H7Xml6j"
      },
      "execution_count": 18,
      "outputs": []
    },
    {
      "cell_type": "code",
      "source": [
        "class InsuranceModel(nn.Module):\n",
        "\n",
        "  def __init__(self):\n",
        "    super().__init__()\n",
        "    self.linear = nn.Linear(in_features=input_size, out_features=output_size)\n",
        "\n",
        "  def forward(self, inputs):\n",
        "    out = self.linear(inputs)\n",
        "    return out\n",
        "  \n",
        "  def training_step(self, batch):\n",
        "    inputs, labels = batch\n",
        "    preds = self(inputs)\n",
        "    loss = nn.functional.l1_loss(preds, labels)\n",
        "    return loss\n",
        "  \n",
        "  def validation_step(self, batch):\n",
        "    inputs, labels = batch\n",
        "    preds = self(inputs)\n",
        "    loss = nn.functional.l1_loss(preds, labels)\n",
        "    return {'val_loss': loss.detach()}\n",
        "  \n",
        "  def validation_epoch_end(self, outputs):\n",
        "    batch_loss = [x['val_loss'] for x in outputs]\n",
        "    epoch_loss = torch.stack(batch_loss).mean()\n",
        "    return {\"val.loss\": epoch_loss}\n",
        "  \n",
        "  def epoch_end(self, epoch, result, num_epochs):\n",
        "    if (epoch + 1) % 50 == 0 or epoch == (num_epochs-1) :\n",
        "      print(f\"A la {epoch+1} epoch, la fonction de cout du dataset de validation est de {result['val.loss']:.4f}\")"
      ],
      "metadata": {
        "id": "4a1xqAzKnxvV"
      },
      "execution_count": 19,
      "outputs": []
    },
    {
      "cell_type": "code",
      "source": [
        "model = InsuranceModel()"
      ],
      "metadata": {
        "id": "JQaILjFvnzqV"
      },
      "execution_count": 20,
      "outputs": []
    },
    {
      "cell_type": "code",
      "source": [
        "for batch in train_loader:\n",
        "  a = model.training_step(batch)\n",
        "  break\n"
      ],
      "metadata": {
        "id": "-EKv2NVRudmW"
      },
      "execution_count": 21,
      "outputs": []
    },
    {
      "cell_type": "markdown",
      "source": [
        "*Train the model:*"
      ],
      "metadata": {
        "id": "0JWv5lQ6uyVJ"
      }
    },
    {
      "cell_type": "code",
      "source": [
        "def evaluate(model, data_loader):\n",
        "  outputs = [model.validation_step(batch) for batch in data_loader]\n",
        "  return model.validation_epoch_end(outputs)\n",
        "\n",
        "def fit(model, nb_epoch, data_train_load, data_valid_load, lr, opt_func=torch.optim.SGD):\n",
        "  history=[]\n",
        "  opt = opt_func(model.parameters(), lr=lr)\n",
        "  for epoch in range(nb_epoch):\n",
        "    for batch in data_train_load:\n",
        "      loss = model.training_step(batch)\n",
        "      loss.backward()\n",
        "      opt.step()\n",
        "      opt.zero_grad()\n",
        "    epoch_eval = evaluate(model, data_valid_load)\n",
        "    model.epoch_end(epoch, epoch_eval, nb_epoch)\n",
        "    history.append(epoch_eval)\n",
        "  return history"
      ],
      "metadata": {
        "id": "GfZvUeylulGG"
      },
      "execution_count": 22,
      "outputs": []
    },
    {
      "cell_type": "code",
      "source": [
        "nb_epoch=500\n",
        "lr = 1e-2\n",
        "history = fit(model, nb_epoch, train_loader, valid_loader, lr)"
      ],
      "metadata": {
        "colab": {
          "base_uri": "https://localhost:8080/"
        },
        "id": "t6WKlctD2Gui",
        "outputId": "fdb579b5-54c2-4f1c-8a7b-fed3a548d0b6"
      },
      "execution_count": 23,
      "outputs": [
        {
          "output_type": "stream",
          "name": "stdout",
          "text": [
            "A la 50 epoch, la fonction de cout du dataset de validation est de 6526.1450\n",
            "A la 100 epoch, la fonction de cout du dataset de validation est de 6339.8569\n",
            "A la 150 epoch, la fonction de cout du dataset de validation est de 6221.9888\n",
            "A la 200 epoch, la fonction de cout du dataset de validation est de 6181.0444\n",
            "A la 250 epoch, la fonction de cout du dataset de validation est de 6173.6777\n",
            "A la 300 epoch, la fonction de cout du dataset de validation est de 6171.4922\n",
            "A la 350 epoch, la fonction de cout du dataset de validation est de 6170.2690\n",
            "A la 400 epoch, la fonction de cout du dataset de validation est de 6166.8218\n",
            "A la 450 epoch, la fonction de cout du dataset de validation est de 6164.5415\n",
            "A la 500 epoch, la fonction de cout du dataset de validation est de 6161.8789\n"
          ]
        }
      ]
    },
    {
      "cell_type": "code",
      "source": [
        "def make_preds(input, target, model):\n",
        "  input = input.unsqueeze(0)\n",
        "  pred = model(input)\n",
        "  prediction = pred[0].detach()\n",
        "  print(\"Input:\", input)\n",
        "  print(\"Target:\", target)\n",
        "  print(\"Prediction:\", prediction)"
      ],
      "metadata": {
        "id": "b3d2gY8X2XCk"
      },
      "execution_count": 24,
      "outputs": []
    }
  ]
}